{
 "cells": [
  {
   "cell_type": "code",
   "execution_count": 1,
   "metadata": {},
   "outputs": [],
   "source": [
    "import pennylane as qml\n",
    "import numpy as np"
   ]
  },
  {
   "cell_type": "markdown",
   "metadata": {},
   "source": [
    "#### Mixture of States\n",
    "A mixture of states $\\{\\ket{i}\\}_{i=1}^{N}$ prepared with probabilities $p_i$ is expressed using the density operator  \n",
    "$$ \\rho = \\sum_{i=1}^N p_{i}\\ket{i}\\bra{i}$$  \n",
    "\n",
    "Given that in the real world we cannot fully eliminate noise, this is a more realistic representaiton of the state that is fed into the quantum circuit.  \n",
    "Therefore we will see how Unitary measurements and gates act on mixed states  \n",
    "\n",
    "Like a quantum gate $U$ maps a pure state $\\ket{\\psi}$ as $U\\ket{\\psi}$ a mixed state is mapped as $$\\rho \\rarr{U{\\rho}{U^\\dagger}}$$"
   ]
  },
  {
   "cell_type": "markdown",
   "metadata": {},
   "source": [
    "#### Solution to Codercise N.2.1.a\n",
    "Effect of a Quantum gate $U$ on a quantum state with density operator $\\rho$"
   ]
  },
  {
   "cell_type": "code",
   "execution_count": 2,
   "metadata": {},
   "outputs": [],
   "source": [
    "def apply_gate_mixed(rho: np.array(np.array(complex)), U: np.array(np.array(complex))) -> np.array(np.array(complex)):\n",
    "    \"\"\"\n",
    "    The output of this method is the density matrix of the output state after applying the quantum gate on the input state\n",
    "    \"\"\"\n",
    "    # Multiply the input density matrix with the conjugate transpose of the matrix of the gate\n",
    "    rho_u_dagger = np.matmul(rho, U.conj().T)\n",
    "    \n",
    "    # Multiply the gate matrix with the above computed matrix and return the result\n",
    "    return np.matmul(U, rho_u_dagger)"
   ]
  },
  {
   "cell_type": "code",
   "execution_count": 3,
   "metadata": {},
   "outputs": [
    {
     "name": "stdout",
     "output_type": "stream",
     "text": [
      "A pi/3 RX rotation applied on [[3/4,1/4],[1/4,1/4]] gives:\n",
      "[[0.62-0.j   0.25+0.22j]\n",
      " [0.25-0.22j 0.37+0.j  ]]\n"
     ]
    }
   ],
   "source": [
    "\"\"\"\n",
    "Test for apply_quantum_gate\n",
    "\"\"\"\n",
    "U = qml.matrix(qml.RX(np.pi/3,0))\n",
    "rho = np.array([[3/4,1/4],[1/4,1/4]])\n",
    "\n",
    "print(\"A pi/3 RX rotation applied on [[3/4,1/4],[1/4,1/4]] gives:\")\n",
    "print(apply_gate_mixed(rho,U).round(2))"
   ]
  },
  {
   "cell_type": "markdown",
   "metadata": {},
   "source": [
    "The same can be done using pennylane instead of numpy"
   ]
  },
  {
   "cell_type": "code",
   "execution_count": 4,
   "metadata": {},
   "outputs": [],
   "source": [
    "device = qml.device('default.mixed', wires = 1) # One quantum wire, on a device for mixed states\n",
    "@qml.qnode(device)\n",
    "def apply_gate_circuit(rho: np.array(np.array(complex)), U: np.array(np.array(complex))) -> np.array(np.array(complex)):\n",
    "    \"\"\"\n",
    "    The output is a state measurement as measured using pennylane\n",
    "    \"\"\"\n",
    "     # Prepare a state with density operator rho\n",
    "    qml.QubitDensityMatrix(rho, 0)\n",
    "    # Apply the unitary U\n",
    "    qml.QubitUnitary(U, 0)\n",
    "    return qml.state() # Return the density operator after applying U\n"
   ]
  },
  {
   "cell_type": "code",
   "execution_count": 5,
   "metadata": {},
   "outputs": [
    {
     "name": "stdout",
     "output_type": "stream",
     "text": [
      "A pi/3 RX rotation applied on [[3/4,1/4],[1/4,1/4]] gives:\n",
      "[[0.62+0.j   0.25+0.22j]\n",
      " [0.25-0.22j 0.38+0.j  ]]\n"
     ]
    }
   ],
   "source": [
    "\"\"\"\n",
    "Test for apply_gate_circuit\n",
    "\"\"\"\n",
    "U = qml.matrix(qml.RX(np.pi/3,0))\n",
    "rho = np.array([[3/4,1/4],[1/4,1/4]])\n",
    "\n",
    "print(\"A pi/3 RX rotation applied on [[3/4,1/4],[1/4,1/4]] gives:\")\n",
    "print(apply_gate_circuit(rho,U).round(2))\n"
   ]
  },
  {
   "cell_type": "markdown",
   "metadata": {},
   "source": [
    "#### Measurement of Mixed States\n",
    "\n",
    "The above shows how to apply a quantum gate on a mixed state however we also need to _**measure**_ these mixed states.  \n",
    "- Physical quantities that can be measured are encoded in observables.  \n",
    "- These observables are Hermitian operators.\n",
    "- Therefore these observables are diagonizable.  \n",
    "\n",
    "Let $B$ be an observable, its corresponding Eigenvectors are $\\ket{k}$ and its Eigenvalues are $\\{\\lambda_k\\}_{k=1}^N$\n",
    "* The set of values from which the result of measuring the encoded observable $B$ is given by $\\lambda_k$\n",
    "* The outcomes $\\lambda_k$ are probabilistic, i.e. if we have a state representation given by $\\rho$ then when measurement on this state is performed, the probability (denoted by $p(k)$) of obtaining $\\lambda_k$ is $$ p(k) = \\mathrm{tr}(\\rho\\Pi_k)$$ where, $$\\Pi_k = \\ket{k}\\bra{k}$$"
   ]
  },
  {
   "cell_type": "markdown",
   "metadata": {},
   "source": [
    "$\\Pi_k = \\ket{k}\\bra{k}$ are called the _**eigenprojectors**_  \n",
    "#### Solution to codercise N.2.2.a \n",
    "Computing the Eigenprojectors"
   ]
  },
  {
   "cell_type": "code",
   "execution_count": 6,
   "metadata": {},
   "outputs": [],
   "source": [
    "def eigenprojectors(obs: np.array(np.array(complex))) -> np.array(np.array(complex)):\n",
    "    \"\"\"\n",
    "    obs: is a matrix representing a hermitian operator, which represents a Quantum observable.\n",
    "    ==========\n",
    "    returns\n",
    "    An array containing the eigenprojectors of the input observable\n",
    "    \"\"\"\n",
    "    # Calculating the eigenvectors of the observable using numpy\n",
    "    eigenvectors = np.linalg.eig(obs)\n",
    "    \n",
    "    # For each eigenvector, compute the outer product with its conjugate\n",
    "    projectors = [np.outer(eigvec, np.conj(eigvec)) for eigvec in eigenvectors[1].T]\n",
    "    \n",
    "    return projectors"
   ]
  },
  {
   "cell_type": "markdown",
   "metadata": {},
   "source": [
    "#### Solution to N.2.2.b\n",
    "Computing the outcome probabilites when given a density operator $\\rho$ and an observable $B$"
   ]
  },
  {
   "cell_type": "code",
   "execution_count": 7,
   "metadata": {},
   "outputs": [],
   "source": [
    "def outcome_probs(rho: np.array(np.array(complex)), B: np.array(np.array(complex))) -> np.array(float):\n",
    "    eigen_projectors = eigenprojectors(B) # Calling the function from N.2.2.a to get the eigen projections\n",
    "    prob_list = [np.trace(np.matmul(p, rho)) for p in eigen_projectors] # Calculate the probabilities\n",
    "    return np.array(prob_list)\n",
    "    "
   ]
  },
  {
   "cell_type": "code",
   "execution_count": 8,
   "metadata": {},
   "outputs": [
    {
     "name": "stdout",
     "output_type": "stream",
     "text": [
      "State: [[3/4,0],[0,1/4]], Observable: [[ 0.+0.j -0.-1.j]\n",
      " [ 0.+1.j  0.+0.j]]\n",
      "Measurement probabilities [0.5+0.j 0.5+0.j]\n"
     ]
    }
   ],
   "source": [
    "\"\"\"\n",
    "Test of N.2.2.a and N.2.2.b\n",
    "\"\"\"\n",
    "rho = np.array([[3/4,0],[0,1/4]])\n",
    "B = qml.matrix(qml.PauliY(0))\n",
    "\n",
    "print(\"State: [[3/4,0],[0,1/4]], Observable: {}\".format(B))\n",
    "print(\"Measurement probabilities {}\".format(outcome_probs(rho,B).round(2)))"
   ]
  },
  {
   "cell_type": "markdown",
   "metadata": {},
   "source": [
    "The same can be done using Pennylane and not hand rolling numpy\n",
    "#### Solution to N.2.2.c\n",
    "* Prepare a Quantum State with the density matrix $\\rho$\n",
    "* Return measurement probabilities "
   ]
  },
  {
   "cell_type": "code",
   "execution_count": 11,
   "metadata": {},
   "outputs": [],
   "source": [
    "@qml.qnode(device)\n",
    "def mixed_probs_circuit(rho: np.array(np.array(complex)), obs):\n",
    "    qml.QubitDensityMatrix(rho, wires=0)\n",
    "    return qml.probs(op=obs)"
   ]
  },
  {
   "cell_type": "code",
   "execution_count": 12,
   "metadata": {},
   "outputs": [
    {
     "name": "stdout",
     "output_type": "stream",
     "text": [
      "State: [[3/4,0],[0,1/4]], Observable: [[ 0.+0.j -0.-1.j]\n",
      " [ 0.+1.j  0.+0.j]]\n",
      "Measurement probabilities [0.5 0.5]\n"
     ]
    }
   ],
   "source": [
    "\"\"\"\n",
    "Test for N.2.2.c\n",
    "\"\"\"\n",
    "rho = np.array([[3/4,0],[0,1/4]])\n",
    "B = qml.PauliY(0)\n",
    "\n",
    "print(\"State: [[3/4,0],[0,1/4]], Observable: {}\".format(qml.matrix(B)))\n",
    "print(\"Measurement probabilities {}\".format(mixed_probs_circuit(rho,B))) "
   ]
  },
  {
   "cell_type": "code",
   "execution_count": null,
   "metadata": {},
   "outputs": [],
   "source": []
  }
 ],
 "metadata": {
  "kernelspec": {
   "display_name": "Python 3",
   "language": "python",
   "name": "python3"
  },
  "language_info": {
   "codemirror_mode": {
    "name": "ipython",
    "version": 3
   },
   "file_extension": ".py",
   "mimetype": "text/x-python",
   "name": "python",
   "nbconvert_exporter": "python",
   "pygments_lexer": "ipython3",
   "version": "3.9.6"
  }
 },
 "nbformat": 4,
 "nbformat_minor": 2
}
