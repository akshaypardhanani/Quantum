{
 "cells": [
  {
   "cell_type": "markdown",
   "metadata": {},
   "source": [
    "#### Density matrix\n",
    "A quantum state can be represented as a vector in Hilbert Space $\\mathcal{H}$  \n",
    "However in the most general scenario, they are represented by a density operator $\\rho$ acting on $\\mathcal{H}$  \n",
    "$$\\rho = \\sum_{i=1}^N p_{i}\\ket{i}\\bra{i}$$\n",
    "\n",
    "Here $\\ket{i}$ is the state prepared with probability $p_{i}$\n",
    "The states are normalized but not necessarily independent.  \n",
    "The matrix form of $\\rho$ is known as the _**density matrix**_\n"
   ]
  },
  {
   "cell_type": "code",
   "execution_count": 26,
   "metadata": {},
   "outputs": [],
   "source": [
    "import pennylane as qml\n",
    "import numpy as np\n",
    "from IPython.display import Latex"
   ]
  },
  {
   "cell_type": "markdown",
   "metadata": {},
   "source": [
    "#### Solution to Codercise N.1.1"
   ]
  },
  {
   "cell_type": "code",
   "execution_count": 27,
   "metadata": {},
   "outputs": [],
   "source": [
    "def build_density_matrix(state_1: np.array(complex), state_2: np.array(complex), p_1: float, p_2: float):\n",
    "    projector_1 = np.outer(state_1, np.conjugate(state_1))\n",
    "    projector_2 =np.outer(state_2, np.conjugate(state_2))\n",
    "    \n",
    "    probability_1 = p_1 * projector_1\n",
    "    probability_2 = p_2 * projector_2\n",
    "    \n",
    "    density_matrix = probability_1 + probability_2\n",
    "    \n",
    "    return density_matrix"
   ]
  },
  {
   "cell_type": "code",
   "execution_count": 28,
   "metadata": {},
   "outputs": [
    {
     "name": "stdout",
     "output_type": "stream",
     "text": [
      "state_1 = |+y>, state_2 = |+x>, p_1 = 0.5, p_2 = 0.5\n",
      "density_matrix:\n",
      "[[0.5 +0.j   0.25-0.25j]\n",
      " [0.25+0.25j 0.5 +0.j  ]]\n"
     ]
    }
   ],
   "source": [
    "print(\"state_1 = |+y>, state_2 = |+x>, p_1 = 0.5, p_2 = 0.5\")\n",
    "print(\"density_matrix:\")\n",
    "print(build_density_matrix([1,1j]/np.sqrt(2), [1,1]/np.sqrt(2), 0.5, 0.5))"
   ]
  },
  {
   "cell_type": "markdown",
   "metadata": {},
   "source": [
    "### Eqn (1) is defined as  \n",
    "$$\\rho = \\sum_{i=1}^N p_{i}\\ket{i}\\bra{i}$$  \n",
    "Not every matrix has this form. In order for a matrix to represent this form it must satisfy the following properties:\n",
    "1. $\\rho$ is Hermitian, i.e. $\\rho^\\dagger = \\rho$\n",
    "2. $\\rho$ has unit trace, i.e. $\\mathrm{tr}{\\rho} = 1$\n",
    "3. $\\rho$ is positive semidefinite, i.e. all of its eigenvalues are positive "
   ]
  },
  {
   "cell_type": "markdown",
   "metadata": {},
   "source": [
    "##### Solution to Codercise N.1.2.a"
   ]
  },
  {
   "cell_type": "code",
   "execution_count": 43,
   "metadata": {},
   "outputs": [],
   "source": [
    "def is_hermitian(matrix: np.array(np.array(complex))) -> bool:\n",
    "    \"\"\"\n",
    "    Checks if the input matrix is hermitian or not\n",
    "    \"\"\"\n",
    "    return np.array_equal(matrix, matrix.conj().T)"
   ]
  },
  {
   "cell_type": "code",
   "execution_count": 44,
   "metadata": {},
   "outputs": [
    {
     "name": "stdout",
     "output_type": "stream",
     "text": [
      "Is matrix [[1,1j],[-1j,1]] Hermitian?\n",
      "True\n",
      "Is matrix [[1,2],[3,4]] Hermitian?\n",
      "False\n"
     ]
    }
   ],
   "source": [
    "\"\"\"\n",
    "Test the is_hermitian method\n",
    "\"\"\"\n",
    "matrix_1 = np.array([[1,1j],[-1j,1]])\n",
    "matrix_2 = np.array([[1,2],[3,4]])\n",
    "\n",
    "print(\"Is matrix [[1,1j],[-1j,1]] Hermitian?\")\n",
    "print(is_hermitian(matrix_1))\n",
    "print(\"Is matrix [[1,2],[3,4]] Hermitian?\")\n",
    "print(is_hermitian(matrix_2))"
   ]
  },
  {
   "cell_type": "markdown",
   "metadata": {},
   "source": [
    "##### Solution to Codercise N.1.2.b"
   ]
  },
  {
   "cell_type": "code",
   "execution_count": 45,
   "metadata": {},
   "outputs": [],
   "source": [
    "def has_trace_one(matrix: np.array(np.array(complex))) -> bool:\n",
    "    \"\"\"\n",
    "    Checks if the input matrix has unit trace\n",
    "    \"\"\"\n",
    "    return np.trace(matrix) == 1"
   ]
  },
  {
   "cell_type": "code",
   "execution_count": 46,
   "metadata": {},
   "outputs": [
    {
     "name": "stdout",
     "output_type": "stream",
     "text": [
      "Does [[1/2,1j],[-1j,1/2]] have unit trace?\n",
      "True\n",
      "Does [[1,2],[3,4]] have unit trace?\n",
      "False\n"
     ]
    }
   ],
   "source": [
    "\"\"\"\n",
    "Test the has_trace_one method\n",
    "\"\"\"\n",
    "matrix_1 = [[1/2,1j],[-1j,1/2]]\n",
    "matrix_2 = [[1,2],[3,4]]\n",
    "    \n",
    "print(\"Does [[1/2,1j],[-1j,1/2]] have unit trace?\")\n",
    "print(has_trace_one(matrix_1))\n",
    "print(\"Does [[1,2],[3,4]] have unit trace?\")\n",
    "print(has_trace_one(matrix_2))"
   ]
  },
  {
   "cell_type": "markdown",
   "metadata": {},
   "source": [
    "##### Solution to Codercise 4.1.2.c"
   ]
  },
  {
   "cell_type": "code",
   "execution_count": 47,
   "metadata": {},
   "outputs": [],
   "source": [
    "def is_semi_positive(matrix: np.array(np.array(complex))) -> bool:\n",
    "    \"\"\"\n",
    "    Checks if the input matrix is semidefinite positive, i.e. all of its eignevales are positive.\n",
    "    [NOTE]: I think this method be renamed to is_semidefinite_positive\n",
    "    \"\"\"\n",
    "    return all(np.linalg.eigvals(matrix) >= 0)"
   ]
  },
  {
   "cell_type": "code",
   "execution_count": 48,
   "metadata": {},
   "outputs": [
    {
     "name": "stdout",
     "output_type": "stream",
     "text": [
      "Is matrix [[3/4,1/4],[1/4,1/4]] positive semidefinite?\n",
      "True\n",
      "Is matrix [[0,1/4],[1/4,1/4]] positive semidefinite?\n",
      "False\n"
     ]
    }
   ],
   "source": [
    "\"\"\"\n",
    "Test the is_semi_positive method\n",
    "\"\"\"\n",
    "matrix_1 = [[3/4,1/4],[1/4,1/4]]\n",
    "matrix_2 = [[0,1/4],[1/4,1/4]]\n",
    "\n",
    "print(\"Is matrix [[3/4,1/4],[1/4,1/4]] positive semidefinite?\")\n",
    "print(is_semi_positive(matrix_1))\n",
    "print(\"Is matrix [[0,1/4],[1/4,1/4]] positive semidefinite?\")\n",
    "print(is_semi_positive(matrix_2))"
   ]
  },
  {
   "cell_type": "code",
   "execution_count": 49,
   "metadata": {},
   "outputs": [],
   "source": [
    "def is_density_matrix(matrix: np.array(np.array(complex))) -> bool:\n",
    "    \"\"\"\n",
    "    Checks if the input matrix satisfies all 3 conditions to be a denisty matrix\n",
    "    \"\"\"\n",
    "    return is_hermitian(matrix) and has_trace_one(matrix) and is_semi_positive(matrix)"
   ]
  },
  {
   "cell_type": "code",
   "execution_count": 50,
   "metadata": {},
   "outputs": [
    {
     "name": "stdout",
     "output_type": "stream",
     "text": [
      "Is [[3/4,0.25j],[-0.25j,1/4]] a density matrix?\n",
      "True\n",
      "Is matrix [[0,1/4],[1/4,1/4]] a density matrix?\n",
      "False\n"
     ]
    }
   ],
   "source": [
    "\"\"\"\n",
    "Test for the is_density_matrix method\n",
    "\"\"\"\n",
    "matrix_1 = np.array([[3/4,0.25j],[-0.25j,1/4]])\n",
    "matrix_2 = np.array([[0,1/4],[1/4,1/4]])\n",
    "    \n",
    "print(\"Is [[3/4,0.25j],[-0.25j,1/4]] a density matrix?\")\n",
    "print(is_density_matrix(matrix_1))\n",
    "print(\"Is matrix [[0,1/4],[1/4,1/4]] a density matrix?\")\n",
    "print(is_density_matrix(matrix_2))"
   ]
  },
  {
   "cell_type": "markdown",
   "metadata": {},
   "source": [
    "#### Mixed States\n",
    "\n",
    "In the event that our state preparation results in the state $\\ket{\\psi}$ with _*certainty*_, i.e. with probability $1$  \n",
    "Then we say that this state is a _**pure state**_ and the density operator is given as $$\\rho = \\ket{\\psi}\\bra{\\psi}$$  \n",
    "\n",
    "If the state prepared is not a pure state, then we call it a _**mixed state**_  \n",
    "\n",
    "One way to determine whether or not a density matrix represents a pure state or a mixed state, is to use the purity of the matrix  \n",
    "$$\\gamma{(\\rho)} = \\mathrm{tr}{\\rho^2}$$\n",
    "\n",
    "The state is pure if and only if $\\gamma{(\\rho)} = 1$"
   ]
  },
  {
   "cell_type": "code",
   "execution_count": 51,
   "metadata": {},
   "outputs": [],
   "source": [
    "def purity(density_matrix: np.array(np.array(complex))) -> float:\n",
    "    \"\"\"\n",
    "    Calculate the square of the trace of the matrix\n",
    "    \"\"\"\n",
    "    trace = np.linalg.norm(density_matrix) #Calculate the trace of the matrix\n",
    "    return np.square(trace) # Square the trace"
   ]
  },
  {
   "cell_type": "code",
   "execution_count": 52,
   "metadata": {},
   "outputs": [
    {
     "name": "stdout",
     "output_type": "stream",
     "text": [
      "The purity of [[1/2,1/2],[1/2,1/2]] is 1.0\n",
      "The purity of [[3/4,1/4],[1/4,1/4]] is 0.7499999999999999\n"
     ]
    }
   ],
   "source": [
    "\"\"\"\n",
    "Test for the purity function\n",
    "\"\"\"\n",
    "matrix_1 = np.array([[1/2,1/2],[1/2,1/2]])\n",
    "matrix_2 = np.array([[3/4,1/4],[1/4,1/4]])\n",
    "\n",
    "print(\"The purity of [[1/2,1/2],[1/2,1/2]] is {}\".format(purity(matrix_1)))\n",
    "print(\"The purity of [[3/4,1/4],[1/4,1/4]] is {}\".format(purity(matrix_2)))\n"
   ]
  }
 ],
 "metadata": {
  "kernelspec": {
   "display_name": "Python 3",
   "language": "python",
   "name": "python3"
  },
  "language_info": {
   "codemirror_mode": {
    "name": "ipython",
    "version": 3
   },
   "file_extension": ".py",
   "mimetype": "text/x-python",
   "name": "python",
   "nbconvert_exporter": "python",
   "pygments_lexer": "ipython3",
   "version": "3.9.6"
  }
 },
 "nbformat": 4,
 "nbformat_minor": 2
}
