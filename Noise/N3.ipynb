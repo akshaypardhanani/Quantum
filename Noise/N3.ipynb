{
 "cells": [
  {
   "cell_type": "code",
   "execution_count": 1,
   "metadata": {},
   "outputs": [],
   "source": [
    "import pennylane as qml\n",
    "import numpy as np"
   ]
  },
  {
   "cell_type": "markdown",
   "metadata": {},
   "source": [
    "#### Kronecker Product\n",
    "###### Points to Remember\n",
    "1. The state of a composite system is defined via tensor product operations\n",
    "2. The system is represented using a density matrix in case of noisy systems  \n",
    "\n",
    "Assuming we have two states $\\ket{\\psi}_A$ and $\\ket{\\psi}_B$, living in Hilbert spaces $\\mathcal{H}_A$ and $\\mathcal{H}_B$, respectively, the joint state of the system is expressed as $\\mathcal{H}_A \\otimes \\mathcal{H}_B$\n",
    "$$\\ket{\\psi}_{AB} = \\ket{\\psi}_A \\otimes \\ket{\\psi}_B \\in \\mathcal{H}_A \\otimes \\mathcal{H}_B$$\n",
    "\n",
    "Similarly if a system is comprised of two independently prepared noisy states given by the density matrices $\\rho_A$ and $\\rho_B$ respectively the composite state of the two systems is $$\\rho_{AB} = \\rho_A \\otimes \\rho_B$$\n",
    "\n",
    "This operation between finite and discrete matrices is also known as the _**Kronecker Product**_"
   ]
  },
  {
   "cell_type": "markdown",
   "metadata": {},
   "source": [
    "##### Solution to Codercise N.3.1\n",
    "Building the composite density matrix using numpy"
   ]
  },
  {
   "cell_type": "code",
   "execution_count": 2,
   "metadata": {},
   "outputs": [],
   "source": [
    "def composite_density_matrix(rho: np.array(np.array(complex)), sigma: np.array(np.array(complex))) -> np.array(np.array(complex)):\n",
    "    \"\"\"\n",
    "    inputs\n",
    "    =======\n",
    "    rho: density matrix of the first input state\n",
    "    sigma: density matrix of the second input state\n",
    "    \n",
    "    outputs\n",
    "    =======\n",
    "    density matrix for the composite system\n",
    "    \"\"\"\n",
    "    return np.kron(rho, sigma)"
   ]
  },
  {
   "cell_type": "markdown",
   "metadata": {},
   "source": [
    "#### Caveat\n",
    "Not all composite states can be described using the above Kronecker Product. If the two states are entangled then $$\\rho_{AB} \\neq \\rho_A \\otimes \\rho_B$$\n",
    "In this case the composite state is definred using the partial trace operation. \n",
    "##### Explanation:\n",
    "If the composite system is defined using the density matrix $\\rho_{AB}$ AND we would like to describe the state of _**one**_ of the subsystems $A$, we define a partial trace over the Hilbert space $\\mathcal{H}_B$ as $$\\mathrm{Tr}_B(\\rho_{AB}) \\equiv \\sum_i(I_{A} \\otimes \\bra{i}_{B})\\rho_{AB}(I_{A} \\otimes \\ket{i}_B)$$\n",
    "Since $\\ket{i}_B$ forms an orthnormal basis for Hilbert space $\\mathcal{H}_B$, the reduced density operator of $\\rho_A$ is defined as $$\\rho_A = \\mathrm{Tr}_B(\\rho_{AB})$$\n",
    "This can be thought of as \"Tracing out\" or \"Discarding\" information related to system $B$  \n",
    "In pennylane this partial trace can be computed as demonstrated in the following codercises"
   ]
  },
  {
   "cell_type": "markdown",
   "metadata": {},
   "source": [
    "#### Solution to Codercise N.3.2.a\n",
    "Create the following entangled state $$\\ket{\\psi} = \\cos{\\left(\\alpha\\over{2}\\right)}\\ket{00} + \\sin{\\left(\\alpha\\over{2}\\right)}\\ket{11}$$"
   ]
  },
  {
   "cell_type": "code",
   "execution_count": 5,
   "metadata": {},
   "outputs": [],
   "source": [
    "def create_entangled(alpha: float):\n",
    "    \"\"\"\n",
    "    inputs\n",
    "    ======\n",
    "    alpha: is the angle through which the subcircuit is rotated\n",
    "    \"\"\"\n",
    "    qml.RY(alpha, wires=0)\n",
    "    qml.CNOT([0,1])"
   ]
  },
  {
   "cell_type": "markdown",
   "metadata": {},
   "source": [
    "##### Explanation for the above\n",
    "By convention all quantum wires start in the $\\ket{0}$ state. Therefore for a circuit consisting of 2 Quantum Wires both will start in the state $\\ket{00}$  \n",
    "`qml.RY` Applied to the first wire (indexed by `0`) has the following effect $$RY\\left(\\alpha\\right)\\ket{0} = \\cos{\\alpha\\over{2}}\\ket{0} + \\sin{\\alpha\\over{2}}\\ket{1}$$ On the first wire. Therefore the resulting state for two wires that started out as $\\ket{00}$ will now be $$\\left(\\cos{\\alpha\\over{2}}\\ket{0} + \\sin{\\alpha\\over{2}}\\ket{1}\\right) \\otimes \\ket{0}$$ $$= \\cos{\\alpha\\over{2}}\\ket{00} + \\sin{\\alpha\\over{2}}\\ket{10}$$\n",
    "<hr>\n",
    "\n",
    "Next we apply the `CNOT` gate with the first wire as the control and the second as the target resulting in $$\\cos{\\alpha\\over{2}}\\ket{00} + \\sin{\\alpha\\over{2}}\\ket{11}$$"
   ]
  },
  {
   "cell_type": "markdown",
   "metadata": {},
   "source": [
    "#### Solution to Codercise N.3.2b\n",
    "Use the above function and return the density matrix based on only the `0`th wire"
   ]
  },
  {
   "cell_type": "code",
   "execution_count": 6,
   "metadata": {},
   "outputs": [],
   "source": [
    "dev = qml.device('default.qubit', wires=2)\n",
    "\n",
    "@qml.qnode(dev)\n",
    "def reduced_entangled(alpha: float) -> np.array(complex):\n",
    "    # Prepare the state using create_entangled\n",
    "    create_entangled(alpha)\n",
    "    \n",
    "    return qml.density_matrix([0])"
   ]
  },
  {
   "cell_type": "code",
   "execution_count": 7,
   "metadata": {},
   "outputs": [
    {
     "name": "stdout",
     "output_type": "stream",
     "text": [
      "For alpha = pi/3, the reduced density matrix is [[0.75+0.j 0.  +0.j]\n",
      " [0.  +0.j 0.25+0.j]]\n"
     ]
    }
   ],
   "source": [
    "\"\"\"\n",
    "Test for N.3.2b\n",
    "\"\"\"\n",
    "alpha = np.pi/3\n",
    "\n",
    "print(\"For alpha = pi/3, the reduced density matrix is {}\".format(reduced_entangled(alpha)))\n"
   ]
  },
  {
   "cell_type": "markdown",
   "metadata": {},
   "source": [
    "When the reduced density matrix for each wire is $I\\over{2}$ this is known as a maximally entangled state. One example of this is the following _**Bell State**_ $$\\ket{\\Phi^+}_{AB} = {{\\ket{0}_A \\ket{0}_B + \\ket{1}_A \\ket{1}_B}\\over{\\sqrt{2}}}$$\n",
    "Another mixed state $$\\rho_{AB} = \\pi_{A} \\otimes \\pi_{B}$$ also gives equivalent reduced states, however its predictions are very different from $\\ket{\\phi^+}\\bra{\\phi^+}_{AB}$  \n",
    "Using the following parity operators we can distinguish between the two $$\\Pi_{even} \\equiv {{1\\over{2}} \\left(I_{A} \\otimes I_{B} + Z_{A} \\otimes Z_{B} \\right)}$$, and $$\\Pi_{odd} \\equiv {{1\\over{2}} \\left(I_{A} \\otimes I_{B} + Z_{A} \\otimes Z_{B} \\right)}$$\n",
    "<hr>\n",
    "\n",
    "##### Solution to codercise 4.3.3"
   ]
  },
  {
   "cell_type": "code",
   "execution_count": 8,
   "metadata": {},
   "outputs": [],
   "source": [
    "device = qml.device('default.mixed', wires = 2)\n",
    "\n",
    "parity_even = 0.5*qml.PauliZ(wires=0) @ qml.PauliZ(wires=1)+ 0.5*qml.Identity(0) @ qml.Identity(1)\n",
    "parity_odd = - 0.5*qml.PauliZ(wires=0) @ qml.PauliZ(wires=1)+ 0.5*qml.Identity(0) @ qml.Identity(1)\n",
    "\n",
    "max_mixed = np.eye(4)/4\n",
    "psi_plus = qml.math.dm_from_state_vector(np.array([1,0,0,1])/np.sqrt(2))\n",
    "\n",
    "@qml.qnode(device)\n",
    "def parity_check_circuit(state: np.array, parity_operator):\n",
    "    # PREPARE THE STATE\n",
    "    qml.QubitDensityMatrix(state, [0,1])\n",
    "\n",
    "    # RETURN THE EXPECTATION VALUE OF THE PARITY OPERATOR\n",
    "    return qml.expval(parity_operator)\n"
   ]
  },
  {
   "cell_type": "code",
   "execution_count": 9,
   "metadata": {},
   "outputs": [
    {
     "name": "stdout",
     "output_type": "stream",
     "text": [
      "Maximally mixed state expectation values\n",
      "Odd Parity: 0.5\n",
      "Even Parity: 0.5\n",
      "Maximally entangled state expectation values\n",
      "Odd Parity: 0.0\n",
      "Even Parity: 0.9999999999999998\n"
     ]
    }
   ],
   "source": [
    "\"\"\"\n",
    "Test for N.3.3\n",
    "\"\"\"\n",
    "print(\"Maximally mixed state expectation values\")\n",
    "print(f\"Odd Parity: {parity_check_circuit(max_mixed,parity_odd)}\")\n",
    "print(f\"Even Parity: {parity_check_circuit(max_mixed,parity_even)}\")\n",
    "\n",
    "print(\"Maximally entangled state expectation values\")\n",
    "print(f\"Odd Parity: {parity_check_circuit(psi_plus,parity_odd)}\")\n",
    "print(f\"Even Parity: {parity_check_circuit(psi_plus,parity_even)}\")"
   ]
  }
 ],
 "metadata": {
  "kernelspec": {
   "display_name": "Python 3",
   "language": "python",
   "name": "python3"
  },
  "language_info": {
   "codemirror_mode": {
    "name": "ipython",
    "version": 3
   },
   "file_extension": ".py",
   "mimetype": "text/x-python",
   "name": "python",
   "nbconvert_exporter": "python",
   "pygments_lexer": "ipython3",
   "version": "3.9.6"
  }
 },
 "nbformat": 4,
 "nbformat_minor": 2
}
